{
 "cells": [
  {
   "cell_type": "markdown",
   "id": "82824052-b4fb-4db4-864e-617fab96863e",
   "metadata": {},
   "source": [
    "# Data Science Tools and Ecosystem"
   ]
  },
  {
   "cell_type": "markdown",
   "id": "cd3c8ba0-ad32-4cc6-8534-18fc440d990f",
   "metadata": {},
   "source": [
    "In this notebook, Data Science Tools and Ecosystem are summarized."
   ]
  },
  {
   "cell_type": "markdown",
   "id": "a5f3f5ad-f797-49ef-9d07-59024269c7e8",
   "metadata": {},
   "source": [
    "**Objectives:**\n",
    "- List popular languages for Data Science\n",
    "- List some popular libraries for Data Science\n",
    "- List Data Science open source tools\n",
    "- Show some arithmetic expressions in Python"
   ]
  },
  {
   "cell_type": "markdown",
   "id": "969b283a-7f92-49c2-93c9-8894f5e26114",
   "metadata": {},
   "source": [
    "Some of the popular languages that Data Scientists use are:"
   ]
  },
  {
   "cell_type": "markdown",
   "id": "3aef8560-f87a-4487-b6ce-aee1c0f066d7",
   "metadata": {},
   "source": [
    "1. Python\n",
    "2. R\n",
    "3. Scala\n",
    "4. SQL"
   ]
  },
  {
   "cell_type": "markdown",
   "id": "9096d40e-bb92-4ebc-a454-e5a3441011c1",
   "metadata": {},
   "source": [
    "Some of the commonly used libraries used by Data Scientists include:\n",
    "1. scikit-learn (Python)\n",
    "2. matplotlib (Python)\n",
    "3. Pandas (Python)\n",
    "4. numpy (Python)\n",
    "5. keras (Python)\n",
    "6. dplyr (R)\n",
    "7. ggplot (R)\n",
    "8. caret (R)"
   ]
  },
  {
   "cell_type": "markdown",
   "id": "f1590b13-6ebf-4de8-9a2d-a5fb7fec8c34",
   "metadata": {},
   "source": [
    "| Data Science Tools |\n",
    "| ------ |\n",
    "| Apache Spark |\n",
    "| Tensorflow serving |\n",
    "| IBM Watson Studio |"
   ]
  },
  {
   "cell_type": "markdown",
   "id": "b3505eda-dbd7-4431-bcaf-0e1a9f8666ac",
   "metadata": {},
   "source": [
    "### Below are a few examples of evaluating arithmetic expressions in Python"
   ]
  },
  {
   "cell_type": "code",
   "execution_count": 1,
   "id": "9d19cd93-8230-467e-bb69-ff2a5e861488",
   "metadata": {},
   "outputs": [
    {
     "data": {
      "text/plain": [
       "17"
      ]
     },
     "execution_count": 1,
     "metadata": {},
     "output_type": "execute_result"
    }
   ],
   "source": [
    "# This is a simple arithmetic expression to multiply and then add integers\n",
    "3*4+5"
   ]
  },
  {
   "cell_type": "code",
   "execution_count": 2,
   "id": "8b107c68-0184-4012-b3a7-c1e3f72e3eab",
   "metadata": {},
   "outputs": [
    {
     "data": {
      "text/plain": [
       "3.3333333333333335"
      ]
     },
     "execution_count": 2,
     "metadata": {},
     "output_type": "execute_result"
    }
   ],
   "source": [
    "# This will convert 200 minutes to hours by diving by 60\n",
    "minutes = 200\n",
    "hours = 200/60\n",
    "hours"
   ]
  },
  {
   "cell_type": "markdown",
   "id": "631371da-8ffa-43fa-91c2-f2928aa71bc2",
   "metadata": {},
   "source": [
    "## Author\n",
    "Eliud Santander Gomez"
   ]
  },
  {
   "cell_type": "code",
   "execution_count": null,
   "id": "39bb5149-0f07-492d-96c3-bef4625a1c73",
   "metadata": {},
   "outputs": [],
   "source": []
  }
 ],
 "metadata": {
  "kernelspec": {
   "display_name": "Python 3 (ipykernel)",
   "language": "python",
   "name": "python3"
  },
  "language_info": {
   "codemirror_mode": {
    "name": "ipython",
    "version": 3
   },
   "file_extension": ".py",
   "mimetype": "text/x-python",
   "name": "python",
   "nbconvert_exporter": "python",
   "pygments_lexer": "ipython3",
   "version": "3.11.5"
  }
 },
 "nbformat": 4,
 "nbformat_minor": 5
}
